{
 "cells": [
  {
   "cell_type": "code",
   "execution_count": 9,
   "metadata": {},
   "outputs": [],
   "source": [
    "#from spacy.lang.de import German"
   ]
  },
  {
   "cell_type": "code",
   "execution_count": 21,
   "metadata": {},
   "outputs": [
    {
     "name": "stdout",
     "output_type": "stream",
     "text": [
      "Collecting de-dep-news-trf==3.0.0\n",
      "  Downloading https://github.com/explosion/spacy-models/releases/download/de_dep_news_trf-3.0.0/de_dep_news_trf-3.0.0-py3-none-any.whl (413.0 MB)\n",
      "Requirement already satisfied: spacy-transformers<1.1.0,>=1.0.0rc4 in c:\\users\\mr\\anaconda3\\lib\\site-packages (from de-dep-news-trf==3.0.0) (1.0.1)\n",
      "Requirement already satisfied: spacy<3.1.0,>=3.0.0 in c:\\users\\mr\\anaconda3\\lib\\site-packages (from de-dep-news-trf==3.0.0) (3.0.3)\n",
      "Requirement already satisfied: typer<0.4.0,>=0.3.0 in c:\\users\\mr\\anaconda3\\lib\\site-packages (from spacy<3.1.0,>=3.0.0->de-dep-news-trf==3.0.0) (0.3.2)\n",
      "Requirement already satisfied: pathy in c:\\users\\mr\\anaconda3\\lib\\site-packages (from spacy<3.1.0,>=3.0.0->de-dep-news-trf==3.0.0) (0.3.6)\n",
      "Requirement already satisfied: srsly<3.0.0,>=2.4.0 in c:\\users\\mr\\anaconda3\\lib\\site-packages (from spacy<3.1.0,>=3.0.0->de-dep-news-trf==3.0.0) (2.4.0)\n",
      "Requirement already satisfied: pydantic<1.8.0,>=1.7.1 in c:\\users\\mr\\anaconda3\\lib\\site-packages (from spacy<3.1.0,>=3.0.0->de-dep-news-trf==3.0.0) (1.7.3)\n",
      "Requirement already satisfied: jinja2 in c:\\users\\mr\\anaconda3\\lib\\site-packages (from spacy<3.1.0,>=3.0.0->de-dep-news-trf==3.0.0) (2.11.2)\n",
      "Requirement already satisfied: packaging>=20.0 in c:\\users\\mr\\anaconda3\\lib\\site-packages (from spacy<3.1.0,>=3.0.0->de-dep-news-trf==3.0.0) (20.4)\n",
      "Requirement already satisfied: wasabi<1.1.0,>=0.8.1 in c:\\users\\mr\\anaconda3\\lib\\site-packages (from spacy<3.1.0,>=3.0.0->de-dep-news-trf==3.0.0) (0.8.2)\n",
      "Requirement already satisfied: catalogue<2.1.0,>=2.0.1 in c:\\users\\mr\\anaconda3\\lib\\site-packages (from spacy<3.1.0,>=3.0.0->de-dep-news-trf==3.0.0) (2.0.1)\n",
      "Requirement already satisfied: blis<0.8.0,>=0.4.0 in c:\\users\\mr\\anaconda3\\lib\\site-packages (from spacy<3.1.0,>=3.0.0->de-dep-news-trf==3.0.0) (0.7.4)\n",
      "Requirement already satisfied: requests<3.0.0,>=2.13.0 in c:\\users\\mr\\anaconda3\\lib\\site-packages (from spacy<3.1.0,>=3.0.0->de-dep-news-trf==3.0.0) (2.24.0)\n",
      "Requirement already satisfied: preshed<3.1.0,>=3.0.2 in c:\\users\\mr\\anaconda3\\lib\\site-packages (from spacy<3.1.0,>=3.0.0->de-dep-news-trf==3.0.0) (3.0.5)\n",
      "Requirement already satisfied: setuptools in c:\\users\\mr\\anaconda3\\lib\\site-packages (from spacy<3.1.0,>=3.0.0->de-dep-news-trf==3.0.0) (53.0.0)\n",
      "Requirement already satisfied: tqdm<5.0.0,>=4.38.0 in c:\\users\\mr\\anaconda3\\lib\\site-packages (from spacy<3.1.0,>=3.0.0->de-dep-news-trf==3.0.0) (4.50.2)\n",
      "Requirement already satisfied: murmurhash<1.1.0,>=0.28.0 in c:\\users\\mr\\anaconda3\\lib\\site-packages (from spacy<3.1.0,>=3.0.0->de-dep-news-trf==3.0.0) (1.0.5)\n",
      "Requirement already satisfied: cymem<2.1.0,>=2.0.2 in c:\\users\\mr\\anaconda3\\lib\\site-packages (from spacy<3.1.0,>=3.0.0->de-dep-news-trf==3.0.0) (2.0.5)\n",
      "Requirement already satisfied: numpy>=1.15.0 in c:\\users\\mr\\anaconda3\\lib\\site-packages (from spacy<3.1.0,>=3.0.0->de-dep-news-trf==3.0.0) (1.19.2)\n",
      "Requirement already satisfied: thinc<8.1.0,>=8.0.0 in c:\\users\\mr\\anaconda3\\lib\\site-packages (from spacy<3.1.0,>=3.0.0->de-dep-news-trf==3.0.0) (8.0.1)\n",
      "Requirement already satisfied: spacy-legacy<3.1.0,>=3.0.0 in c:\\users\\mr\\anaconda3\\lib\\site-packages (from spacy<3.1.0,>=3.0.0->de-dep-news-trf==3.0.0) (3.0.1)\n",
      "Requirement already satisfied: six in c:\\users\\mr\\anaconda3\\lib\\site-packages (from packaging>=20.0->spacy<3.1.0,>=3.0.0->de-dep-news-trf==3.0.0) (1.15.0)\n",
      "Requirement already satisfied: pyparsing>=2.0.2 in c:\\users\\mr\\anaconda3\\lib\\site-packages (from packaging>=20.0->spacy<3.1.0,>=3.0.0->de-dep-news-trf==3.0.0) (2.4.7)\n",
      "Requirement already satisfied: certifi>=2017.4.17 in c:\\users\\mr\\anaconda3\\lib\\site-packages (from requests<3.0.0,>=2.13.0->spacy<3.1.0,>=3.0.0->de-dep-news-trf==3.0.0) (2020.6.20)\n",
      "Requirement already satisfied: urllib3!=1.25.0,!=1.25.1,<1.26,>=1.21.1 in c:\\users\\mr\\anaconda3\\lib\\site-packages (from requests<3.0.0,>=2.13.0->spacy<3.1.0,>=3.0.0->de-dep-news-trf==3.0.0) (1.25.11)\n",
      "Requirement already satisfied: idna<3,>=2.5 in c:\\users\\mr\\anaconda3\\lib\\site-packages (from requests<3.0.0,>=2.13.0->spacy<3.1.0,>=3.0.0->de-dep-news-trf==3.0.0) (2.10)\n",
      "Requirement already satisfied: chardet<4,>=3.0.2 in c:\\users\\mr\\anaconda3\\lib\\site-packages (from requests<3.0.0,>=2.13.0->spacy<3.1.0,>=3.0.0->de-dep-news-trf==3.0.0) (3.0.4)\n",
      "Requirement already satisfied: torch>=1.5.0 in c:\\users\\mr\\anaconda3\\lib\\site-packages (from spacy-transformers<1.1.0,>=1.0.0rc4->de-dep-news-trf==3.0.0) (1.7.1)\n",
      "Requirement already satisfied: transformers<4.3.0,>=3.1.0 in c:\\users\\mr\\anaconda3\\lib\\site-packages (from spacy-transformers<1.1.0,>=1.0.0rc4->de-dep-news-trf==3.0.0) (4.2.2)\n",
      "Requirement already satisfied: spacy-alignments<1.0.0,>=0.7.2 in c:\\users\\mr\\anaconda3\\lib\\site-packages (from spacy-transformers<1.1.0,>=1.0.0rc4->de-dep-news-trf==3.0.0) (0.7.2)\n",
      "Requirement already satisfied: torchcontrib<0.1.0,>=0.0.2 in c:\\users\\mr\\anaconda3\\lib\\site-packages (from spacy-transformers<1.1.0,>=1.0.0rc4->de-dep-news-trf==3.0.0) (0.0.2)\n",
      "Requirement already satisfied: ftfy<6.0.0,>=5.0.0 in c:\\users\\mr\\anaconda3\\lib\\site-packages (from spacy-transformers<1.1.0,>=1.0.0rc4->de-dep-news-trf==3.0.0) (5.9)\n",
      "Requirement already satisfied: wcwidth in c:\\users\\mr\\anaconda3\\lib\\site-packages (from ftfy<6.0.0,>=5.0.0->spacy-transformers<1.1.0,>=1.0.0rc4->de-dep-news-trf==3.0.0) (0.2.5)\n",
      "Requirement already satisfied: typing-extensions in c:\\users\\mr\\anaconda3\\lib\\site-packages (from torch>=1.5.0->spacy-transformers<1.1.0,>=1.0.0rc4->de-dep-news-trf==3.0.0) (3.7.4.3)\n",
      "Requirement already satisfied: sacremoses in c:\\users\\mr\\anaconda3\\lib\\site-packages (from transformers<4.3.0,>=3.1.0->spacy-transformers<1.1.0,>=1.0.0rc4->de-dep-news-trf==3.0.0) (0.0.43)\n",
      "Requirement already satisfied: tokenizers==0.9.4 in c:\\users\\mr\\anaconda3\\lib\\site-packages (from transformers<4.3.0,>=3.1.0->spacy-transformers<1.1.0,>=1.0.0rc4->de-dep-news-trf==3.0.0) (0.9.4)\n",
      "Requirement already satisfied: filelock in c:\\users\\mr\\anaconda3\\lib\\site-packages (from transformers<4.3.0,>=3.1.0->spacy-transformers<1.1.0,>=1.0.0rc4->de-dep-news-trf==3.0.0) (3.0.12)\n",
      "Requirement already satisfied: regex!=2019.12.17 in c:\\users\\mr\\anaconda3\\lib\\site-packages (from transformers<4.3.0,>=3.1.0->spacy-transformers<1.1.0,>=1.0.0rc4->de-dep-news-trf==3.0.0) (2020.10.15)\n",
      "Requirement already satisfied: click<7.2.0,>=7.1.1 in c:\\users\\mr\\anaconda3\\lib\\site-packages (from typer<0.4.0,>=0.3.0->spacy<3.1.0,>=3.0.0->de-dep-news-trf==3.0.0) (7.1.2)\n",
      "Requirement already satisfied: MarkupSafe>=0.23 in c:\\users\\mr\\anaconda3\\lib\\site-packages (from jinja2->spacy<3.1.0,>=3.0.0->de-dep-news-trf==3.0.0) (1.1.1)\n",
      "Requirement already satisfied: smart-open<4.0.0,>=2.2.0 in c:\\users\\mr\\anaconda3\\lib\\site-packages (from pathy->spacy<3.1.0,>=3.0.0->de-dep-news-trf==3.0.0) (3.0.0)\n",
      "Requirement already satisfied: joblib in c:\\users\\mr\\anaconda3\\lib\\site-packages (from sacremoses->transformers<4.3.0,>=3.1.0->spacy-transformers<1.1.0,>=1.0.0rc4->de-dep-news-trf==3.0.0) (0.17.0)\n",
      "[+] Download and installation successful\n",
      "You can now load the package via spacy.load('de_dep_news_trf')\n"
     ]
    }
   ],
   "source": [
    "import sys\n",
    "#!{sys.executable} -m spacy download de\n",
    "#!{sys.executable} -m spacy download de_core_news_sm\n",
    "!{sys.executable} -m spacy download de_dep_news_trf"
   ]
  },
  {
   "cell_type": "code",
   "execution_count": 22,
   "metadata": {},
   "outputs": [
    {
     "ename": "ValueError",
     "evalue": "[E002] Can't find factory for 'transformer' for language German (de). This usually happens when spaCy calls `nlp.create_pipe` with a custom component name that's not registered on the current language class. If you're using a Transformer, make sure to install 'spacy-transformers'. If you're using a custom component, make sure you've added the decorator `@Language.component` (for function components) or `@Language.factory` (for class components).\n\nAvailable factories: attribute_ruler, tok2vec, merge_noun_chunks, merge_entities, merge_subtokens, token_splitter, parser, beam_parser, entity_linker, ner, beam_ner, entity_ruler, lemmatizer, tagger, morphologizer, senter, sentencizer, textcat, textcat_multilabel",
     "output_type": "error",
     "traceback": [
      "\u001b[1;31m---------------------------------------------------------------------------\u001b[0m",
      "\u001b[1;31mValueError\u001b[0m                                Traceback (most recent call last)",
      "\u001b[1;32m<ipython-input-22-903de781fbc7>\u001b[0m in \u001b[0;36m<module>\u001b[1;34m\u001b[0m\n\u001b[0;32m      1\u001b[0m \u001b[1;32mimport\u001b[0m \u001b[0mspacy\u001b[0m\u001b[1;33m\u001b[0m\u001b[1;33m\u001b[0m\u001b[0m\n\u001b[1;32m----> 2\u001b[1;33m \u001b[0mnlp\u001b[0m \u001b[1;33m=\u001b[0m \u001b[0mspacy\u001b[0m\u001b[1;33m.\u001b[0m\u001b[0mload\u001b[0m\u001b[1;33m(\u001b[0m\u001b[1;34m\"de_dep_news_trf\"\u001b[0m\u001b[1;33m)\u001b[0m \u001b[1;31m#spacy.load loads models\u001b[0m\u001b[1;33m\u001b[0m\u001b[1;33m\u001b[0m\u001b[0m\n\u001b[0m",
      "\u001b[1;32m~\\anaconda3\\lib\\site-packages\\spacy\\__init__.py\u001b[0m in \u001b[0;36mload\u001b[1;34m(name, disable, exclude, config)\u001b[0m\n\u001b[0;32m     45\u001b[0m     \u001b[0mRETURNS\u001b[0m \u001b[1;33m(\u001b[0m\u001b[0mLanguage\u001b[0m\u001b[1;33m)\u001b[0m\u001b[1;33m:\u001b[0m \u001b[0mThe\u001b[0m \u001b[0mloaded\u001b[0m \u001b[0mnlp\u001b[0m \u001b[0mobject\u001b[0m\u001b[1;33m.\u001b[0m\u001b[1;33m\u001b[0m\u001b[1;33m\u001b[0m\u001b[0m\n\u001b[0;32m     46\u001b[0m     \"\"\"\n\u001b[1;32m---> 47\u001b[1;33m     \u001b[1;32mreturn\u001b[0m \u001b[0mutil\u001b[0m\u001b[1;33m.\u001b[0m\u001b[0mload_model\u001b[0m\u001b[1;33m(\u001b[0m\u001b[0mname\u001b[0m\u001b[1;33m,\u001b[0m \u001b[0mdisable\u001b[0m\u001b[1;33m=\u001b[0m\u001b[0mdisable\u001b[0m\u001b[1;33m,\u001b[0m \u001b[0mexclude\u001b[0m\u001b[1;33m=\u001b[0m\u001b[0mexclude\u001b[0m\u001b[1;33m,\u001b[0m \u001b[0mconfig\u001b[0m\u001b[1;33m=\u001b[0m\u001b[0mconfig\u001b[0m\u001b[1;33m)\u001b[0m\u001b[1;33m\u001b[0m\u001b[1;33m\u001b[0m\u001b[0m\n\u001b[0m\u001b[0;32m     48\u001b[0m \u001b[1;33m\u001b[0m\u001b[0m\n\u001b[0;32m     49\u001b[0m \u001b[1;33m\u001b[0m\u001b[0m\n",
      "\u001b[1;32m~\\anaconda3\\lib\\site-packages\\spacy\\util.py\u001b[0m in \u001b[0;36mload_model\u001b[1;34m(name, vocab, disable, exclude, config)\u001b[0m\n\u001b[0;32m    320\u001b[0m             \u001b[1;32mreturn\u001b[0m \u001b[0mget_lang_class\u001b[0m\u001b[1;33m(\u001b[0m\u001b[0mname\u001b[0m\u001b[1;33m.\u001b[0m\u001b[0mreplace\u001b[0m\u001b[1;33m(\u001b[0m\u001b[1;34m\"blank:\"\u001b[0m\u001b[1;33m,\u001b[0m \u001b[1;34m\"\"\u001b[0m\u001b[1;33m)\u001b[0m\u001b[1;33m)\u001b[0m\u001b[1;33m(\u001b[0m\u001b[1;33m)\u001b[0m\u001b[1;33m\u001b[0m\u001b[1;33m\u001b[0m\u001b[0m\n\u001b[0;32m    321\u001b[0m         \u001b[1;32mif\u001b[0m \u001b[0mis_package\u001b[0m\u001b[1;33m(\u001b[0m\u001b[0mname\u001b[0m\u001b[1;33m)\u001b[0m\u001b[1;33m:\u001b[0m  \u001b[1;31m# installed as package\u001b[0m\u001b[1;33m\u001b[0m\u001b[1;33m\u001b[0m\u001b[0m\n\u001b[1;32m--> 322\u001b[1;33m             \u001b[1;32mreturn\u001b[0m \u001b[0mload_model_from_package\u001b[0m\u001b[1;33m(\u001b[0m\u001b[0mname\u001b[0m\u001b[1;33m,\u001b[0m \u001b[1;33m**\u001b[0m\u001b[0mkwargs\u001b[0m\u001b[1;33m)\u001b[0m\u001b[1;33m\u001b[0m\u001b[1;33m\u001b[0m\u001b[0m\n\u001b[0m\u001b[0;32m    323\u001b[0m         \u001b[1;32mif\u001b[0m \u001b[0mPath\u001b[0m\u001b[1;33m(\u001b[0m\u001b[0mname\u001b[0m\u001b[1;33m)\u001b[0m\u001b[1;33m.\u001b[0m\u001b[0mexists\u001b[0m\u001b[1;33m(\u001b[0m\u001b[1;33m)\u001b[0m\u001b[1;33m:\u001b[0m  \u001b[1;31m# path to model data directory\u001b[0m\u001b[1;33m\u001b[0m\u001b[1;33m\u001b[0m\u001b[0m\n\u001b[0;32m    324\u001b[0m             \u001b[1;32mreturn\u001b[0m \u001b[0mload_model_from_path\u001b[0m\u001b[1;33m(\u001b[0m\u001b[0mPath\u001b[0m\u001b[1;33m(\u001b[0m\u001b[0mname\u001b[0m\u001b[1;33m)\u001b[0m\u001b[1;33m,\u001b[0m \u001b[1;33m**\u001b[0m\u001b[0mkwargs\u001b[0m\u001b[1;33m)\u001b[0m\u001b[1;33m\u001b[0m\u001b[1;33m\u001b[0m\u001b[0m\n",
      "\u001b[1;32m~\\anaconda3\\lib\\site-packages\\spacy\\util.py\u001b[0m in \u001b[0;36mload_model_from_package\u001b[1;34m(name, vocab, disable, exclude, config)\u001b[0m\n\u001b[0;32m    353\u001b[0m     \"\"\"\n\u001b[0;32m    354\u001b[0m     \u001b[0mcls\u001b[0m \u001b[1;33m=\u001b[0m \u001b[0mimportlib\u001b[0m\u001b[1;33m.\u001b[0m\u001b[0mimport_module\u001b[0m\u001b[1;33m(\u001b[0m\u001b[0mname\u001b[0m\u001b[1;33m)\u001b[0m\u001b[1;33m\u001b[0m\u001b[1;33m\u001b[0m\u001b[0m\n\u001b[1;32m--> 355\u001b[1;33m     \u001b[1;32mreturn\u001b[0m \u001b[0mcls\u001b[0m\u001b[1;33m.\u001b[0m\u001b[0mload\u001b[0m\u001b[1;33m(\u001b[0m\u001b[0mvocab\u001b[0m\u001b[1;33m=\u001b[0m\u001b[0mvocab\u001b[0m\u001b[1;33m,\u001b[0m \u001b[0mdisable\u001b[0m\u001b[1;33m=\u001b[0m\u001b[0mdisable\u001b[0m\u001b[1;33m,\u001b[0m \u001b[0mexclude\u001b[0m\u001b[1;33m=\u001b[0m\u001b[0mexclude\u001b[0m\u001b[1;33m,\u001b[0m \u001b[0mconfig\u001b[0m\u001b[1;33m=\u001b[0m\u001b[0mconfig\u001b[0m\u001b[1;33m)\u001b[0m\u001b[1;33m\u001b[0m\u001b[1;33m\u001b[0m\u001b[0m\n\u001b[0m\u001b[0;32m    356\u001b[0m \u001b[1;33m\u001b[0m\u001b[0m\n\u001b[0;32m    357\u001b[0m \u001b[1;33m\u001b[0m\u001b[0m\n",
      "\u001b[1;32m~\\anaconda3\\lib\\site-packages\\de_dep_news_trf\\__init__.py\u001b[0m in \u001b[0;36mload\u001b[1;34m(**overrides)\u001b[0m\n\u001b[0;32m      8\u001b[0m \u001b[1;33m\u001b[0m\u001b[0m\n\u001b[0;32m      9\u001b[0m \u001b[1;32mdef\u001b[0m \u001b[0mload\u001b[0m\u001b[1;33m(\u001b[0m\u001b[1;33m**\u001b[0m\u001b[0moverrides\u001b[0m\u001b[1;33m)\u001b[0m\u001b[1;33m:\u001b[0m\u001b[1;33m\u001b[0m\u001b[1;33m\u001b[0m\u001b[0m\n\u001b[1;32m---> 10\u001b[1;33m     \u001b[1;32mreturn\u001b[0m \u001b[0mload_model_from_init_py\u001b[0m\u001b[1;33m(\u001b[0m\u001b[0m__file__\u001b[0m\u001b[1;33m,\u001b[0m \u001b[1;33m**\u001b[0m\u001b[0moverrides\u001b[0m\u001b[1;33m)\u001b[0m\u001b[1;33m\u001b[0m\u001b[1;33m\u001b[0m\u001b[0m\n\u001b[0m",
      "\u001b[1;32m~\\anaconda3\\lib\\site-packages\\spacy\\util.py\u001b[0m in \u001b[0;36mload_model_from_init_py\u001b[1;34m(init_file, vocab, disable, exclude, config)\u001b[0m\n\u001b[0;32m    512\u001b[0m     \u001b[1;32mif\u001b[0m \u001b[1;32mnot\u001b[0m \u001b[0mmodel_path\u001b[0m\u001b[1;33m.\u001b[0m\u001b[0mexists\u001b[0m\u001b[1;33m(\u001b[0m\u001b[1;33m)\u001b[0m\u001b[1;33m:\u001b[0m\u001b[1;33m\u001b[0m\u001b[1;33m\u001b[0m\u001b[0m\n\u001b[0;32m    513\u001b[0m         \u001b[1;32mraise\u001b[0m \u001b[0mIOError\u001b[0m\u001b[1;33m(\u001b[0m\u001b[0mErrors\u001b[0m\u001b[1;33m.\u001b[0m\u001b[0mE052\u001b[0m\u001b[1;33m.\u001b[0m\u001b[0mformat\u001b[0m\u001b[1;33m(\u001b[0m\u001b[0mpath\u001b[0m\u001b[1;33m=\u001b[0m\u001b[0mdata_path\u001b[0m\u001b[1;33m)\u001b[0m\u001b[1;33m)\u001b[0m\u001b[1;33m\u001b[0m\u001b[1;33m\u001b[0m\u001b[0m\n\u001b[1;32m--> 514\u001b[1;33m     return load_model_from_path(\n\u001b[0m\u001b[0;32m    515\u001b[0m         \u001b[0mdata_path\u001b[0m\u001b[1;33m,\u001b[0m\u001b[1;33m\u001b[0m\u001b[1;33m\u001b[0m\u001b[0m\n\u001b[0;32m    516\u001b[0m         \u001b[0mvocab\u001b[0m\u001b[1;33m=\u001b[0m\u001b[0mvocab\u001b[0m\u001b[1;33m,\u001b[0m\u001b[1;33m\u001b[0m\u001b[1;33m\u001b[0m\u001b[0m\n",
      "\u001b[1;32m~\\anaconda3\\lib\\site-packages\\spacy\\util.py\u001b[0m in \u001b[0;36mload_model_from_path\u001b[1;34m(model_path, meta, vocab, disable, exclude, config)\u001b[0m\n\u001b[0;32m    387\u001b[0m     \u001b[0mconfig_path\u001b[0m \u001b[1;33m=\u001b[0m \u001b[0mmodel_path\u001b[0m \u001b[1;33m/\u001b[0m \u001b[1;34m\"config.cfg\"\u001b[0m\u001b[1;33m\u001b[0m\u001b[1;33m\u001b[0m\u001b[0m\n\u001b[0;32m    388\u001b[0m     \u001b[0mconfig\u001b[0m \u001b[1;33m=\u001b[0m \u001b[0mload_config\u001b[0m\u001b[1;33m(\u001b[0m\u001b[0mconfig_path\u001b[0m\u001b[1;33m,\u001b[0m \u001b[0moverrides\u001b[0m\u001b[1;33m=\u001b[0m\u001b[0mdict_to_dot\u001b[0m\u001b[1;33m(\u001b[0m\u001b[0mconfig\u001b[0m\u001b[1;33m)\u001b[0m\u001b[1;33m)\u001b[0m\u001b[1;33m\u001b[0m\u001b[1;33m\u001b[0m\u001b[0m\n\u001b[1;32m--> 389\u001b[1;33m     \u001b[0mnlp\u001b[0m \u001b[1;33m=\u001b[0m \u001b[0mload_model_from_config\u001b[0m\u001b[1;33m(\u001b[0m\u001b[0mconfig\u001b[0m\u001b[1;33m,\u001b[0m \u001b[0mvocab\u001b[0m\u001b[1;33m=\u001b[0m\u001b[0mvocab\u001b[0m\u001b[1;33m,\u001b[0m \u001b[0mdisable\u001b[0m\u001b[1;33m=\u001b[0m\u001b[0mdisable\u001b[0m\u001b[1;33m,\u001b[0m \u001b[0mexclude\u001b[0m\u001b[1;33m=\u001b[0m\u001b[0mexclude\u001b[0m\u001b[1;33m)\u001b[0m\u001b[1;33m\u001b[0m\u001b[1;33m\u001b[0m\u001b[0m\n\u001b[0m\u001b[0;32m    390\u001b[0m     \u001b[1;32mreturn\u001b[0m \u001b[0mnlp\u001b[0m\u001b[1;33m.\u001b[0m\u001b[0mfrom_disk\u001b[0m\u001b[1;33m(\u001b[0m\u001b[0mmodel_path\u001b[0m\u001b[1;33m,\u001b[0m \u001b[0mexclude\u001b[0m\u001b[1;33m=\u001b[0m\u001b[0mexclude\u001b[0m\u001b[1;33m)\u001b[0m\u001b[1;33m\u001b[0m\u001b[1;33m\u001b[0m\u001b[0m\n\u001b[0;32m    391\u001b[0m \u001b[1;33m\u001b[0m\u001b[0m\n",
      "\u001b[1;32m~\\anaconda3\\lib\\site-packages\\spacy\\util.py\u001b[0m in \u001b[0;36mload_model_from_config\u001b[1;34m(config, vocab, disable, exclude, auto_fill, validate)\u001b[0m\n\u001b[0;32m    424\u001b[0m     \u001b[1;31m# registry, including custom subclasses provided via entry points\u001b[0m\u001b[1;33m\u001b[0m\u001b[1;33m\u001b[0m\u001b[1;33m\u001b[0m\u001b[0m\n\u001b[0;32m    425\u001b[0m     \u001b[0mlang_cls\u001b[0m \u001b[1;33m=\u001b[0m \u001b[0mget_lang_class\u001b[0m\u001b[1;33m(\u001b[0m\u001b[0mnlp_config\u001b[0m\u001b[1;33m[\u001b[0m\u001b[1;34m\"lang\"\u001b[0m\u001b[1;33m]\u001b[0m\u001b[1;33m)\u001b[0m\u001b[1;33m\u001b[0m\u001b[1;33m\u001b[0m\u001b[0m\n\u001b[1;32m--> 426\u001b[1;33m     nlp = lang_cls.from_config(\n\u001b[0m\u001b[0;32m    427\u001b[0m         \u001b[0mconfig\u001b[0m\u001b[1;33m,\u001b[0m\u001b[1;33m\u001b[0m\u001b[1;33m\u001b[0m\u001b[0m\n\u001b[0;32m    428\u001b[0m         \u001b[0mvocab\u001b[0m\u001b[1;33m=\u001b[0m\u001b[0mvocab\u001b[0m\u001b[1;33m,\u001b[0m\u001b[1;33m\u001b[0m\u001b[1;33m\u001b[0m\u001b[0m\n",
      "\u001b[1;32m~\\anaconda3\\lib\\site-packages\\spacy\\language.py\u001b[0m in \u001b[0;36mfrom_config\u001b[1;34m(cls, config, vocab, disable, exclude, meta, auto_fill, validate)\u001b[0m\n\u001b[0;32m   1648\u001b[0m                     \u001b[1;31m# The pipe name (key in the config) here is the unique name\u001b[0m\u001b[1;33m\u001b[0m\u001b[1;33m\u001b[0m\u001b[1;33m\u001b[0m\u001b[0m\n\u001b[0;32m   1649\u001b[0m                     \u001b[1;31m# of the component, not necessarily the factory\u001b[0m\u001b[1;33m\u001b[0m\u001b[1;33m\u001b[0m\u001b[1;33m\u001b[0m\u001b[0m\n\u001b[1;32m-> 1650\u001b[1;33m                     nlp.add_pipe(\n\u001b[0m\u001b[0;32m   1651\u001b[0m                         \u001b[0mfactory\u001b[0m\u001b[1;33m,\u001b[0m\u001b[1;33m\u001b[0m\u001b[1;33m\u001b[0m\u001b[0m\n\u001b[0;32m   1652\u001b[0m                         \u001b[0mname\u001b[0m\u001b[1;33m=\u001b[0m\u001b[0mpipe_name\u001b[0m\u001b[1;33m,\u001b[0m\u001b[1;33m\u001b[0m\u001b[1;33m\u001b[0m\u001b[0m\n",
      "\u001b[1;32m~\\anaconda3\\lib\\site-packages\\spacy\\language.py\u001b[0m in \u001b[0;36madd_pipe\u001b[1;34m(self, factory_name, name, before, after, first, last, source, config, raw_config, validate)\u001b[0m\n\u001b[0;32m    765\u001b[0m                     \u001b[0mlang_code\u001b[0m\u001b[1;33m=\u001b[0m\u001b[0mself\u001b[0m\u001b[1;33m.\u001b[0m\u001b[0mlang\u001b[0m\u001b[1;33m,\u001b[0m\u001b[1;33m\u001b[0m\u001b[1;33m\u001b[0m\u001b[0m\n\u001b[0;32m    766\u001b[0m                 )\n\u001b[1;32m--> 767\u001b[1;33m             pipe_component = self.create_pipe(\n\u001b[0m\u001b[0;32m    768\u001b[0m                 \u001b[0mfactory_name\u001b[0m\u001b[1;33m,\u001b[0m\u001b[1;33m\u001b[0m\u001b[1;33m\u001b[0m\u001b[0m\n\u001b[0;32m    769\u001b[0m                 \u001b[0mname\u001b[0m\u001b[1;33m=\u001b[0m\u001b[0mname\u001b[0m\u001b[1;33m,\u001b[0m\u001b[1;33m\u001b[0m\u001b[1;33m\u001b[0m\u001b[0m\n",
      "\u001b[1;32m~\\anaconda3\\lib\\site-packages\\spacy\\language.py\u001b[0m in \u001b[0;36mcreate_pipe\u001b[1;34m(self, factory_name, name, config, raw_config, validate)\u001b[0m\n\u001b[0;32m    636\u001b[0m                 \u001b[0mlang_code\u001b[0m\u001b[1;33m=\u001b[0m\u001b[0mself\u001b[0m\u001b[1;33m.\u001b[0m\u001b[0mlang\u001b[0m\u001b[1;33m,\u001b[0m\u001b[1;33m\u001b[0m\u001b[1;33m\u001b[0m\u001b[0m\n\u001b[0;32m    637\u001b[0m             )\n\u001b[1;32m--> 638\u001b[1;33m             \u001b[1;32mraise\u001b[0m \u001b[0mValueError\u001b[0m\u001b[1;33m(\u001b[0m\u001b[0merr\u001b[0m\u001b[1;33m)\u001b[0m\u001b[1;33m\u001b[0m\u001b[1;33m\u001b[0m\u001b[0m\n\u001b[0m\u001b[0;32m    639\u001b[0m         \u001b[0mpipe_meta\u001b[0m \u001b[1;33m=\u001b[0m \u001b[0mself\u001b[0m\u001b[1;33m.\u001b[0m\u001b[0mget_factory_meta\u001b[0m\u001b[1;33m(\u001b[0m\u001b[0mfactory_name\u001b[0m\u001b[1;33m)\u001b[0m\u001b[1;33m\u001b[0m\u001b[1;33m\u001b[0m\u001b[0m\n\u001b[0;32m    640\u001b[0m         \u001b[0mconfig\u001b[0m \u001b[1;33m=\u001b[0m \u001b[0mconfig\u001b[0m \u001b[1;32mor\u001b[0m \u001b[1;33m{\u001b[0m\u001b[1;33m}\u001b[0m\u001b[1;33m\u001b[0m\u001b[1;33m\u001b[0m\u001b[0m\n",
      "\u001b[1;31mValueError\u001b[0m: [E002] Can't find factory for 'transformer' for language German (de). This usually happens when spaCy calls `nlp.create_pipe` with a custom component name that's not registered on the current language class. If you're using a Transformer, make sure to install 'spacy-transformers'. If you're using a custom component, make sure you've added the decorator `@Language.component` (for function components) or `@Language.factory` (for class components).\n\nAvailable factories: attribute_ruler, tok2vec, merge_noun_chunks, merge_entities, merge_subtokens, token_splitter, parser, beam_parser, entity_linker, ner, beam_ner, entity_ruler, lemmatizer, tagger, morphologizer, senter, sentencizer, textcat, textcat_multilabel"
     ]
    }
   ],
   "source": [
    "import spacy\n",
    "nlp = spacy.load(\"de_dep_news_trf\") #spacy.load loads models"
   ]
  },
  {
   "cell_type": "code",
   "execution_count": 14,
   "metadata": {},
   "outputs": [],
   "source": [
    "doc = nlp(\"Theaterspiele, Ritterstechen und die Berglandtour Oberlausitzer Geschichte und Geschichten: Viele Aktivitäten in den 110 Jahren der Natur- und Heimatfreunde von Neusalza-Spremberg. Zum ersten Verbandstreffen der Lusatia im vergangenen Monat in Neusalza-Spremberg feierten die dortigen Natur- und Heimatfreunde als Veranstalter dieses Tages auch ihrerseits ihr 110jähriges Bestehen.\") #process a text"
   ]
  },
  {
   "cell_type": "code",
   "execution_count": 16,
   "metadata": {
    "collapsed": true
   },
   "outputs": [
    {
     "name": "stdout",
     "output_type": "stream",
     "text": [
      "Theaterspiele NOUN\n",
      ", PUNCT\n",
      "Ritterstechen NOUN\n",
      "und CCONJ\n",
      "die DET\n",
      "Berglandtour PROPN\n",
      "Oberlausitzer ADJ\n",
      "Geschichte NOUN\n",
      "und CCONJ\n",
      "Geschichten NOUN\n",
      ": PUNCT\n",
      "Viele DET\n",
      "Aktivitäten NOUN\n",
      "in ADP\n",
      "den DET\n",
      "110 NUM\n",
      "Jahren NOUN\n",
      "der DET\n",
      "Natur- X\n",
      "und CCONJ\n",
      "Heimatfreunde NOUN\n",
      "von ADP\n",
      "Neusalza-Spremberg PROPN\n",
      ". PUNCT\n",
      "Zum ADP\n",
      "ersten ADJ\n",
      "Verbandstreffen NOUN\n",
      "der DET\n",
      "Lusatia NOUN\n",
      "im ADP\n",
      "vergangenen ADJ\n",
      "Monat NOUN\n",
      "in ADP\n",
      "Neusalza-Spremberg PROPN\n",
      "feierten VERB\n",
      "die DET\n",
      "dortigen ADJ\n",
      "Natur- X\n",
      "und CCONJ\n",
      "Heimatfreunde NOUN\n",
      "als ADP\n",
      "Veranstalter NOUN\n",
      "dieses DET\n",
      "Tages NOUN\n",
      "auch ADV\n",
      "ihrerseits ADV\n",
      "ihr DET\n",
      "110jähriges ADJ\n",
      "Bestehen NOUN\n",
      ". PUNCT\n"
     ]
    }
   ],
   "source": [
    "#5:00\n",
    "#in spacy, attributes that predict strings usually end with an underscore, without return integer id-value\n",
    "\n",
    "for token in doc:\n",
    "    print(token.text, token.pos_, token.dep_, token.head.text)\n",
    "\n",
    "#print the text and the predicted part-of-speech tag, \n",
    "#print the dependency: the relations, is subject or object, head returns syntactic head token, or parent token\n",
    "#dependcy labels show attachments, such as nominal subject, direct object or determiner (article)"
   ]
  },
  {
   "cell_type": "code",
   "execution_count": 17,
   "metadata": {
    "collapsed": true
   },
   "outputs": [
    {
     "name": "stdout",
     "output_type": "stream",
     "text": [
      "Theaterspiele NOUN ROOT Theaterspiele\n",
      ", PUNCT punct Theaterspiele\n",
      "Ritterstechen NOUN cj Theaterspiele\n",
      "und CCONJ cd Ritterstechen\n",
      "die DET nk Berglandtour\n",
      "Berglandtour PROPN ag Geschichte\n",
      "Oberlausitzer ADJ nk Geschichte\n",
      "Geschichte NOUN cj und\n",
      "und CCONJ cd Geschichte\n",
      "Geschichten NOUN cj und\n",
      ": PUNCT punct Theaterspiele\n",
      "Viele DET nk Aktivitäten\n",
      "Aktivitäten NOUN cj Theaterspiele\n",
      "in ADP mnr Aktivitäten\n",
      "den DET nk Jahren\n",
      "110 NUM nk Jahren\n",
      "Jahren NOUN nk in\n",
      "der DET nk Heimatfreunde\n",
      "Natur- X cj und\n",
      "und CCONJ cd Heimatfreunde\n",
      "Heimatfreunde NOUN ag Jahren\n",
      "von ADP pg Heimatfreunde\n",
      "Neusalza-Spremberg PROPN nk von\n",
      ". PUNCT punct Theaterspiele\n",
      "Zum ADP mo feierten\n",
      "ersten ADJ nk Verbandstreffen\n",
      "Verbandstreffen NOUN nk Zum\n",
      "der DET nk Lusatia\n",
      "Lusatia NOUN ag Verbandstreffen\n",
      "im ADP mnr Verbandstreffen\n",
      "vergangenen ADJ nk Monat\n",
      "Monat NOUN nk im\n",
      "in ADP mo feierten\n",
      "Neusalza-Spremberg PROPN nk in\n",
      "feierten VERB ROOT feierten\n",
      "die DET nk Heimatfreunde\n",
      "dortigen ADJ nk Heimatfreunde\n",
      "Natur- X cj und\n",
      "und CCONJ cd Heimatfreunde\n",
      "Heimatfreunde NOUN sb feierten\n",
      "als ADP mo feierten\n",
      "Veranstalter NOUN nk als\n",
      "dieses DET nk Tages\n",
      "Tages NOUN mo feierten\n",
      "auch ADV mo ihrerseits\n",
      "ihrerseits ADV mo feierten\n",
      "ihr DET nk Bestehen\n",
      "110jähriges ADJ nk Bestehen\n",
      "Bestehen NOUN oa feierten\n",
      ". PUNCT punct feierten\n"
     ]
    }
   ],
   "source": [
    "for token in doc:\n",
    "    print(token.text, token.pos_, token.dep_, token.head.text)"
   ]
  },
  {
   "cell_type": "code",
   "execution_count": 18,
   "metadata": {},
   "outputs": [
    {
     "name": "stdout",
     "output_type": "stream",
     "text": [
      "Berglandtour Oberlausitzer ORG\n",
      "Lusatia ORG\n",
      "Neusalza-Spremberg LOC\n",
      "Tages MISC\n"
     ]
    }
   ],
   "source": [
    "# Process a text and predict named entities\n",
    "for ent in doc.ents:\n",
    "    print(ent.text, ent.label_)\n",
    "    \n",
    "#org-organisation\n",
    "#gpe-geopolitical entity"
   ]
  },
  {
   "cell_type": "code",
   "execution_count": 44,
   "metadata": {
    "scrolled": true
   },
   "outputs": [
    {
     "data": {
      "text/plain": [
       "'Countries, cities, states'"
      ]
     },
     "execution_count": 44,
     "metadata": {},
     "output_type": "execute_result"
    }
   ],
   "source": [
    "#get definitions for entities:\n",
    "spacy.explain(\"GPE\")"
   ]
  },
  {
   "cell_type": "code",
   "execution_count": 45,
   "metadata": {},
   "outputs": [
    {
     "data": {
      "text/plain": [
       "'noun, proper singular'"
      ]
     },
     "execution_count": 45,
     "metadata": {},
     "output_type": "execute_result"
    }
   ],
   "source": [
    "#get definitions for entities:\n",
    "spacy.explain(\"NNP\")"
   ]
  },
  {
   "cell_type": "code",
   "execution_count": 46,
   "metadata": {},
   "outputs": [
    {
     "data": {
      "text/plain": [
       "'direct object'"
      ]
     },
     "execution_count": 46,
     "metadata": {},
     "output_type": "execute_result"
    }
   ],
   "source": [
    "#get definitions for entities:\n",
    "spacy.explain(\"dobj\")"
   ]
  },
  {
   "cell_type": "code",
   "execution_count": null,
   "metadata": {},
   "outputs": [],
   "source": []
  }
 ],
 "metadata": {
  "kernelspec": {
   "display_name": "Python 3",
   "language": "python",
   "name": "python3"
  },
  "language_info": {
   "codemirror_mode": {
    "name": "ipython",
    "version": 3
   },
   "file_extension": ".py",
   "mimetype": "text/x-python",
   "name": "python",
   "nbconvert_exporter": "python",
   "pygments_lexer": "ipython3",
   "version": "3.8.5"
  }
 },
 "nbformat": 4,
 "nbformat_minor": 4
}
