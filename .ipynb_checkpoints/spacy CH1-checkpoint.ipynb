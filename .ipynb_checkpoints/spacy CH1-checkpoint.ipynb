{
 "cells": [
  {
   "cell_type": "code",
   "execution_count": 2,
   "metadata": {},
   "outputs": [],
   "source": [
    "#https://www.youtube.com/watch?v=THduWAnG97k  7:15\n",
    "#spacys matcher let's you write rules to find words and phrases in text, does not work with only strings like regex\n",
    "#e.g. find verb \"duck\" but not noun \"duck\"\n",
    "#match patterns are lists of dictionaries, each dictionary describes one token\n",
    "#you can match on different token attributes\n",
    "#lemma is basefor, so lemma \"buy\" would find buying, etc."
   ]
  },
  {
   "cell_type": "code",
   "execution_count": 3,
   "metadata": {},
   "outputs": [
    {
     "name": "stdout",
     "output_type": "stream",
     "text": [
      "3.0.3\n"
     ]
    }
   ],
   "source": [
    "import spacy\n",
    "print(spacy.__version__)\n",
    "from spacy.matcher import Matcher #import matcher"
   ]
  },
  {
   "cell_type": "code",
   "execution_count": 4,
   "metadata": {},
   "outputs": [],
   "source": [
    "nlp = spacy.load(\"en_core_web_sm\") #load model and create nlp object"
   ]
  },
  {
   "cell_type": "code",
   "execution_count": 5,
   "metadata": {},
   "outputs": [],
   "source": [
    "matcher = Matcher(nlp.vocab) #initialize the matcher with the shared vocab"
   ]
  },
  {
   "cell_type": "code",
   "execution_count": 6,
   "metadata": {},
   "outputs": [],
   "source": [
    "pattern = [{\"TEXT\": \"iPhone\"}, {\"TEXT\": \"X\"}] #add the pattern to the matcher"
   ]
  },
  {
   "cell_type": "code",
   "execution_count": 7,
   "metadata": {},
   "outputs": [],
   "source": [
    "matcher.add(\"IPHONE_PATTERN\", [pattern]) #1st argument: unique ID, 2nd: pattern"
   ]
  },
  {
   "cell_type": "code",
   "execution_count": 8,
   "metadata": {},
   "outputs": [],
   "source": [
    "doc = nlp(\"Upcoming iPhone X release date leaked\")"
   ]
  },
  {
   "cell_type": "code",
   "execution_count": 9,
   "metadata": {},
   "outputs": [],
   "source": [
    "matches = matcher(doc)"
   ]
  },
  {
   "cell_type": "code",
   "execution_count": 10,
   "metadata": {},
   "outputs": [
    {
     "name": "stdout",
     "output_type": "stream",
     "text": [
      "iPhone X\n"
     ]
    }
   ],
   "source": [
    "for match_id, start, end in matches: #match_id: hash value of the pattern name\n",
    "    matched_span = doc[start:end]    #start: start indoex of matched span\n",
    "    print(matched_span.text)         #end: end index of matched span"
   ]
  },
  {
   "cell_type": "code",
   "execution_count": 11,
   "metadata": {},
   "outputs": [],
   "source": [
    "#matchin lexical attributes, looking for 5 tokens\n",
    "pattern = [\n",
    "    {\"IS_DIGIT\": True}, #one consisting of only digits\n",
    "    {\"LOWER\": \"fifa\"}, #three case insensitive tokens for \"fifa\", \"world\", and \"cup\"\n",
    "    {\"LOWER\": \"world\"},\n",
    "    {\"LOWER\": \"cup\"},\n",
    "    {\"IS_PUNCT\": True}, #and a token consisting of a punctuation\n",
    "]"
   ]
  },
  {
   "cell_type": "code",
   "execution_count": 12,
   "metadata": {},
   "outputs": [],
   "source": [
    "doc = nlp(\"2018 FIFA World Cup: France won!\")"
   ]
  },
  {
   "cell_type": "code",
   "execution_count": 13,
   "metadata": {},
   "outputs": [],
   "source": [
    "#matching using LEMMA\n",
    "pattern = [\n",
    "    {\"LEMMA\": \"love\",\"POS\": \"VERB\"},\n",
    "    {\"POS\": \"NOUN\"}\n",
    "]"
   ]
  },
  {
   "cell_type": "code",
   "execution_count": 14,
   "metadata": {},
   "outputs": [],
   "source": [
    "doc = nlp(\"I loved dogs but now I love cats more.\")"
   ]
  },
  {
   "cell_type": "code",
   "execution_count": 15,
   "metadata": {},
   "outputs": [
    {
     "name": "stdout",
     "output_type": "stream",
     "text": [
      "loved dogs\n",
      "love cats\n"
     ]
    }
   ],
   "source": [
    "matcher.add(\"PATTERN\", [pattern]) #1st argument: unique ID, 2nd: pattern\n",
    "matches = matcher(doc)\n",
    "for match_id, start, end in matches: #match_id: hash value of the pattern name\n",
    "    matched_span = doc[start:end]    #start: start indoex of matched span\n",
    "    print(matched_span.text)         #end: end index of matched span"
   ]
  },
  {
   "cell_type": "code",
   "execution_count": 19,
   "metadata": {},
   "outputs": [],
   "source": [
    "#operators and quantifiers let you know how often a token should be matched, they can be added\n",
    "#using the OP key. in this case the \"?\" makes the token optional, \n",
    "#so it will match with LEMMA buy and an optional article or noun\n",
    "#{\"OP\": \"!\"}  - Negation: match 0 times\n",
    "#{\"OP\": \"?\"}  - Optional: match 0 or 1 times\n",
    "#{\"OP\": \"+\"}  - Match 1 or more times\n",
    "#{\"OP\": \"*\"}  - Match 0 or more times\n",
    "\n",
    "pattern = [\n",
    "    {\"LEMMA\": \"buy\"},\n",
    "    {\"POS\": \"DET\", \"OP\": \"?\"}, #optional: match 0 or 1 times\n",
    "    {\"POS\": \"NOUN\"},\n",
    "]"
   ]
  },
  {
   "cell_type": "code",
   "execution_count": 20,
   "metadata": {},
   "outputs": [],
   "source": [
    "doc = nlp(\"I bought a smartphone. Now I'm buying apps.\")"
   ]
  },
  {
   "cell_type": "code",
   "execution_count": 21,
   "metadata": {},
   "outputs": [
    {
     "name": "stdout",
     "output_type": "stream",
     "text": [
      "bought a smartphone\n",
      "buying apps\n"
     ]
    }
   ],
   "source": [
    "matcher.add(\"PATTERN\", [pattern])\n",
    "matches = matcher(doc)\n",
    "for match_id, start, end in matches: #match_id: hash value of the pattern name\n",
    "    matched_span = doc[start:end]    #start: start indoex of matched span\n",
    "    print(matched_span.text)         #end: end index of matched span"
   ]
  },
  {
   "cell_type": "code",
   "execution_count": null,
   "metadata": {},
   "outputs": [],
   "source": []
  }
 ],
 "metadata": {
  "kernelspec": {
   "display_name": "Python 3",
   "language": "python",
   "name": "python3"
  },
  "language_info": {
   "codemirror_mode": {
    "name": "ipython",
    "version": 3
   },
   "file_extension": ".py",
   "mimetype": "text/x-python",
   "name": "python",
   "nbconvert_exporter": "python",
   "pygments_lexer": "ipython3",
   "version": "3.8.5"
  }
 },
 "nbformat": 4,
 "nbformat_minor": 4
}
